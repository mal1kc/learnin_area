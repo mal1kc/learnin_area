{
 "cells": [
  {
   "cell_type": "markdown",
   "metadata": {},
   "source": [
    "# mutable vs immutable\n",
    "\n",
    "## description\n",
    "An immutable object (unchangeable object) is an object whose state cannot be modified after it is created. This is in contrast to a mutable object (changeable object), which can be modified after it is created.[ref](https://en.wikipedia.org/w/index.php?title=Immutable_object&oldformat=true)"
   ]
  },
  {
   "cell_type": "code",
   "execution_count": 1,
   "metadata": {},
   "outputs": [
    {
     "name": "stdout",
     "output_type": "stream",
     "text": [
      "Hello\n"
     ]
    }
   ],
   "source": [
    "'''\n",
    "mutable vs immutable\n",
    "'''\n",
    "\n",
    "a = 'Hello'\n",
    "print(a)"
   ]
  },
  {
   "cell_type": "markdown",
   "metadata": {},
   "source": [
    "### id()\n",
    "\n",
    "in python id function returns the memory address of given the object."
   ]
  },
  {
   "cell_type": "code",
   "execution_count": 2,
   "metadata": {},
   "outputs": [
    {
     "data": {
      "text/plain": [
       "2380894945392"
      ]
     },
     "execution_count": 2,
     "metadata": {},
     "output_type": "execute_result"
    }
   ],
   "source": [
    "id(a)"
   ]
  },
  {
   "cell_type": "markdown",
   "metadata": {},
   "source": [
    "if we change the value of a variable, the id of that variable will change."
   ]
  },
  {
   "cell_type": "code",
   "execution_count": 3,
   "metadata": {},
   "outputs": [
    {
     "data": {
      "text/plain": [
       "2380879061040"
      ]
     },
     "execution_count": 3,
     "metadata": {},
     "output_type": "execute_result"
    }
   ],
   "source": [
    "a = 'Hi'\n",
    "id(a)"
   ]
  },
  {
   "cell_type": "code",
   "execution_count": 4,
   "metadata": {},
   "outputs": [
    {
     "name": "stdout",
     "output_type": "stream",
     "text": [
      "H\n"
     ]
    },
    {
     "ename": "TypeError",
     "evalue": "'str' object does not support item assignment",
     "output_type": "error",
     "traceback": [
      "\u001b[1;31m---------------------------------------------------------------------------\u001b[0m",
      "\u001b[1;31mTypeError\u001b[0m                                 Traceback (most recent call last)",
      "\u001b[1;32mh:\\projects++\\myProjects-myAttempts\\learnin_area\\python\\mutable_vs_immutable.ipynb Cell 7'\u001b[0m in \u001b[0;36m<cell line: 2>\u001b[1;34m()\u001b[0m\n\u001b[0;32m      <a href='vscode-notebook-cell:/h%3A/projects%2B%2B/myProjects-myAttempts/learnin_area/python/mutable_vs_immutable.ipynb#ch0000007?line=0'>1</a>\u001b[0m \u001b[39mprint\u001b[39m(a[\u001b[39m0\u001b[39m])\n\u001b[1;32m----> <a href='vscode-notebook-cell:/h%3A/projects%2B%2B/myProjects-myAttempts/learnin_area/python/mutable_vs_immutable.ipynb#ch0000007?line=1'>2</a>\u001b[0m a[\u001b[39m0\u001b[39m]\u001b[39m=\u001b[39m \u001b[39m'\u001b[39m\u001b[39mh\u001b[39m\u001b[39m'\u001b[39m\n",
      "\u001b[1;31mTypeError\u001b[0m: 'str' object does not support item assignment"
     ]
    }
   ],
   "source": [
    "print(a[0])\n",
    "a[0]= 'h' # error because a is immutable"
   ]
  },
  {
   "cell_type": "code",
   "execution_count": 5,
   "metadata": {},
   "outputs": [
    {
     "name": "stdout",
     "output_type": "stream",
     "text": [
      "[1, 2, 3, 4, 5, 6, 7, 8, 9, 10]\n",
      "2380915698368\n"
     ]
    }
   ],
   "source": [
    "a = [1,2,3,4,5,6,7,8,9,10] # list object ,lists are mutable in python\n",
    "print(a)\n",
    "print(id(a))"
   ]
  },
  {
   "cell_type": "code",
   "execution_count": 6,
   "metadata": {},
   "outputs": [
    {
     "data": {
      "text/plain": [
       "2380915698368"
      ]
     },
     "execution_count": 6,
     "metadata": {},
     "output_type": "execute_result"
    }
   ],
   "source": [
    "a[0] = 0 # a is support item assignment because it is mutable\n",
    "id(a) # id of a not changed because a is mutable"
   ]
  },
  {
   "cell_type": "markdown",
   "metadata": {},
   "source": [
    "### why it matters ?"
   ]
  },
  {
   "cell_type": "code",
   "execution_count": 7,
   "metadata": {},
   "outputs": [
    {
     "name": "stdout",
     "output_type": "stream",
     "text": [
      "address of output is 2380915764768\n",
      "address of output is 2380879573136\n",
      "address of output is 2380913408496\n",
      "address of output is 2380914916144\n",
      "<ul>\n",
      "<li>user1</li>\n",
      "<li>user2</li>\n",
      "<li>user3</li>\n",
      "<li>user4</li>\n",
      "</ul>\n"
     ]
    }
   ],
   "source": [
    "\n",
    "users = ['user1','user2','user3','user4']\n",
    "\n",
    "output = '<ul>\\n'\n",
    "\n",
    "for user in users:\n",
    "    output += f'<li>{user}</li>\\n'\n",
    "    print(f'address of output is {id(output)}')\n",
    "\n",
    "output += '</ul>'\n",
    "print(output)"
   ]
  },
  {
   "cell_type": "markdown",
   "metadata": {},
   "source": [
    "we see in example we create every loop we create a new object in memory with immutable objects."
   ]
  },
  {
   "cell_type": "code",
   "execution_count": 8,
   "metadata": {},
   "outputs": [
    {
     "name": "stdout",
     "output_type": "stream",
     "text": [
      "address of output is 2380915729280\n",
      "address of output is 2380915729280\n",
      "address of output is 2380915729280\n",
      "address of output is 2380915729280\n",
      "<ul>\n",
      "<li>user1</li>\n",
      "<li>user2</li>\n",
      "<li>user3</li>\n",
      "<li>user4</li>\n",
      "</ul>\n"
     ]
    }
   ],
   "source": [
    "\n",
    "users = ['user1','user2','user3','user4']\n",
    "output = ['<ul>\\n']\n",
    "\n",
    "for user in users:\n",
    "    output.append(f'<li>{user}</li>\\n')\n",
    "    print(f'address of output is {id(output)}')\n",
    "\n",
    "output.append('</ul>')\n",
    "print(''.join(output))"
   ]
  }
 ],
 "metadata": {
  "interpreter": {
   "hash": "c77b684781a81fc11f15edf4743f720037425fd73a8d90c34b451cff215a5b87"
  },
  "kernelspec": {
   "display_name": "Python 3.10.4 ('.venv': venv)",
   "language": "python",
   "name": "python3"
  },
  "language_info": {
   "codemirror_mode": {
    "name": "ipython",
    "version": 3
   },
   "file_extension": ".py",
   "mimetype": "text/x-python",
   "name": "python",
   "nbconvert_exporter": "python",
   "pygments_lexer": "ipython3",
   "version": "3.10.4"
  },
  "orig_nbformat": 4
 },
 "nbformat": 4,
 "nbformat_minor": 2
}

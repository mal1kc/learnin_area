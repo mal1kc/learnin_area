{
 "cells": [
  {
   "cell_type": "markdown",
   "metadata": {},
   "source": [
    "# issues with mutable default args\n",
    "\n",
    "[reference-video](https://www.youtube.com/watch?v=_JGmemuINww)"
   ]
  },
  {
   "cell_type": "code",
   "execution_count": 1,
   "metadata": {},
   "outputs": [],
   "source": [
    "def add_user(user, user_list=[]):\n",
    "    user_list.append(user)\n",
    "    print(user_list)"
   ]
  },
  {
   "cell_type": "markdown",
   "metadata": {},
   "source": [
    "## __\\_\\_defaults\\_\\___\n",
    "\n",
    "__\\_\\_defaults\\_\\___ is a special attribute that gives the default values for the parameters of a function.\n"
   ]
  },
  {
   "cell_type": "code",
   "execution_count": 2,
   "metadata": {},
   "outputs": [
    {
     "data": {
      "text/plain": [
       "([],)"
      ]
     },
     "execution_count": 2,
     "metadata": {},
     "output_type": "execute_result"
    }
   ],
   "source": [
    "add_user.__defaults__"
   ]
  },
  {
   "cell_type": "markdown",
   "metadata": {},
   "source": [
    "in function first usage default arguments set to default values,\n",
    "\n",
    "with mutable default arguments,\n",
    "if we use function multiple times with default mutable arguments then it will be changed and it will updated in all the function calls."
   ]
  },
  {
   "cell_type": "code",
   "execution_count": 3,
   "metadata": {},
   "outputs": [
    {
     "name": "stdout",
     "output_type": "stream",
     "text": [
      "['user4']\n",
      "['user4', 'user1']\n",
      "['user4', 'user1', 'user3']\n"
     ]
    }
   ],
   "source": [
    "add_user('user4')\n",
    "add_user('user1')\n",
    "add_user('user3')"
   ]
  },
  {
   "cell_type": "markdown",
   "metadata": {},
   "source": [
    "we can see with change of __\\_\\_defaults\\_\\___ attribute of function. "
   ]
  },
  {
   "cell_type": "code",
   "execution_count": 4,
   "metadata": {},
   "outputs": [
    {
     "data": {
      "text/plain": [
       "(['user4', 'user1', 'user3'],)"
      ]
     },
     "execution_count": 4,
     "metadata": {},
     "output_type": "execute_result"
    }
   ],
   "source": [
    "add_user.__defaults__"
   ]
  },
  {
   "cell_type": "markdown",
   "metadata": {},
   "source": [
    "if we change mutable default arg to None as default than change it inside function\n",
    "it will remain special to all the function calls."
   ]
  },
  {
   "cell_type": "code",
   "execution_count": 5,
   "metadata": {},
   "outputs": [],
   "source": [
    "def add_user_fixed(user, user_list=None):\n",
    "    if user_list is None:\n",
    "        user_list = []\n",
    "    user_list.append(user)\n",
    "    print(user_list)"
   ]
  },
  {
   "cell_type": "code",
   "execution_count": 6,
   "metadata": {},
   "outputs": [
    {
     "data": {
      "text/plain": [
       "(None,)"
      ]
     },
     "execution_count": 6,
     "metadata": {},
     "output_type": "execute_result"
    }
   ],
   "source": [
    "add_user_fixed.__defaults__"
   ]
  },
  {
   "cell_type": "code",
   "execution_count": 7,
   "metadata": {},
   "outputs": [
    {
     "name": "stdout",
     "output_type": "stream",
     "text": [
      "['user4']\n",
      "['user1']\n",
      "['user3']\n"
     ]
    }
   ],
   "source": [
    "add_user_fixed('user4')\n",
    "add_user_fixed('user1')\n",
    "add_user_fixed('user3')"
   ]
  },
  {
   "cell_type": "code",
   "execution_count": 8,
   "metadata": {},
   "outputs": [
    {
     "data": {
      "text/plain": [
       "(None,)"
      ]
     },
     "execution_count": 8,
     "metadata": {},
     "output_type": "execute_result"
    }
   ],
   "source": [
    "add_user_fixed.__defaults__"
   ]
  },
  {
   "cell_type": "code",
   "execution_count": 9,
   "metadata": {},
   "outputs": [],
   "source": [
    "import time\n",
    "from datetime import datetime\n",
    "\n",
    "def display_time(time_to_print=datetime.now()):\n",
    "    print(time_to_print.strftime('%Y-%m-%d %H:%M:%S'))"
   ]
  },
  {
   "cell_type": "code",
   "execution_count": 10,
   "metadata": {},
   "outputs": [
    {
     "data": {
      "text/plain": [
       "(datetime.datetime(2022, 5, 17, 12, 4, 19, 556573),)"
      ]
     },
     "execution_count": 10,
     "metadata": {},
     "output_type": "execute_result"
    }
   ],
   "source": [
    "display_time.__defaults__"
   ]
  },
  {
   "cell_type": "code",
   "execution_count": 11,
   "metadata": {},
   "outputs": [
    {
     "name": "stdout",
     "output_type": "stream",
     "text": [
      "2022-05-17 12:04:19\n",
      "2022-05-17 12:04:19\n"
     ]
    }
   ],
   "source": [
    "display_time()\n",
    "time.sleep(1)\n",
    "display_time()"
   ]
  },
  {
   "cell_type": "code",
   "execution_count": 12,
   "metadata": {},
   "outputs": [
    {
     "name": "stdout",
     "output_type": "stream",
     "text": [
      "2022-05-17 12:04:19\n"
     ]
    }
   ],
   "source": [
    "display_time()"
   ]
  },
  {
   "cell_type": "code",
   "execution_count": 13,
   "metadata": {},
   "outputs": [],
   "source": [
    "def display_time_fixed(time_to_print=None):\n",
    "    if time_to_print is None:\n",
    "        time_to_print = datetime.now()\n",
    "    print(time_to_print.strftime('%Y-%m-%d %H:%M:%S'))"
   ]
  },
  {
   "cell_type": "code",
   "execution_count": 14,
   "metadata": {},
   "outputs": [
    {
     "data": {
      "text/plain": [
       "(None,)"
      ]
     },
     "execution_count": 14,
     "metadata": {},
     "output_type": "execute_result"
    }
   ],
   "source": [
    "display_time_fixed.__defaults__"
   ]
  },
  {
   "cell_type": "code",
   "execution_count": 15,
   "metadata": {},
   "outputs": [
    {
     "name": "stdout",
     "output_type": "stream",
     "text": [
      "2022-05-17 12:04:21\n",
      "2022-05-17 12:04:22\n"
     ]
    }
   ],
   "source": [
    "display_time_fixed()\n",
    "time.sleep(1)\n",
    "display_time_fixed()"
   ]
  },
  {
   "cell_type": "code",
   "execution_count": 16,
   "metadata": {},
   "outputs": [
    {
     "name": "stdout",
     "output_type": "stream",
     "text": [
      "2022-05-17 12:04:22\n"
     ]
    }
   ],
   "source": [
    "display_time_fixed()"
   ]
  }
 ],
 "metadata": {
  "interpreter": {
   "hash": "c77b684781a81fc11f15edf4743f720037425fd73a8d90c34b451cff215a5b87"
  },
  "kernelspec": {
   "display_name": "Python 3.10.4 ('.venv': venv)",
   "language": "python",
   "name": "python3"
  },
  "language_info": {
   "codemirror_mode": {
    "name": "ipython",
    "version": 3
   },
   "file_extension": ".py",
   "mimetype": "text/x-python",
   "name": "python",
   "nbconvert_exporter": "python",
   "pygments_lexer": "ipython3",
   "version": "3.10.4"
  },
  "orig_nbformat": 4
 },
 "nbformat": 4,
 "nbformat_minor": 2
}
